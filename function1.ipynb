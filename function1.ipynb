{
 "cells": [
  {
   "cell_type": "markdown",
   "id": "675f050e",
   "metadata": {},
   "source": [
    "# 1\n",
    "\" def \" keyword is used to create a function"
   ]
  },
  {
   "cell_type": "code",
   "execution_count": 1,
   "id": "31f90164",
   "metadata": {},
   "outputs": [],
   "source": [
    "def list_odd_num():\n",
    "    l=[]\n",
    "    for i in range(1,25):\n",
    "        if i%2==1:\n",
    "            l.append(i)\n",
    "    return l"
   ]
  },
  {
   "cell_type": "code",
   "execution_count": 2,
   "id": "6a3d2488",
   "metadata": {},
   "outputs": [
    {
     "data": {
      "text/plain": [
       "[1, 3, 5, 7, 9, 11, 13, 15, 17, 19, 21, 23]"
      ]
     },
     "execution_count": 2,
     "metadata": {},
     "output_type": "execute_result"
    }
   ],
   "source": [
    "list_odd_num()"
   ]
  },
  {
   "cell_type": "markdown",
   "id": "eec65a87",
   "metadata": {},
   "source": [
    "### 2\n",
    "\n",
    "    *args used to giving multiple argument in a function without defining the variables \n",
    "    where **kwargs used to giving multiple argument in the form of key value pair"
   ]
  },
  {
   "cell_type": "code",
   "execution_count": 3,
   "id": "b006e4c1",
   "metadata": {},
   "outputs": [],
   "source": [
    "## Example of *args\n",
    "def test(*args):\n",
    "    return args"
   ]
  },
  {
   "cell_type": "code",
   "execution_count": 4,
   "id": "5f6aa703",
   "metadata": {},
   "outputs": [
    {
     "data": {
      "text/plain": [
       "(1, 2, 3, 4, 5, 6)"
      ]
     },
     "execution_count": 4,
     "metadata": {},
     "output_type": "execute_result"
    }
   ],
   "source": [
    "test(1,2,3,4,5,6)"
   ]
  },
  {
   "cell_type": "code",
   "execution_count": 5,
   "id": "be8fd807",
   "metadata": {},
   "outputs": [],
   "source": [
    "## Example of **kwargs\n",
    "def test1(**kwargs):\n",
    "    return kwargs"
   ]
  },
  {
   "cell_type": "code",
   "execution_count": 6,
   "id": "365f5ea8",
   "metadata": {},
   "outputs": [
    {
     "data": {
      "text/plain": [
       "{'a': 1, 'b': 2, 'c': 'hi', 'd': 'bye'}"
      ]
     },
     "execution_count": 6,
     "metadata": {},
     "output_type": "execute_result"
    }
   ],
   "source": [
    "test1(a=1,b=2,c=\"hi\",d=\"bye\")"
   ]
  },
  {
   "cell_type": "markdown",
   "id": "a5042920",
   "metadata": {},
   "source": [
    "### 3\n",
    "    iterator are those without wasting any memory it will iterate one by one by the help of next()\n",
    "    we can't next directly first we have to convert the iterable elements as iterator by the help of iter()"
   ]
  },
  {
   "cell_type": "code",
   "execution_count": 7,
   "id": "9b47d79a",
   "metadata": {},
   "outputs": [
    {
     "data": {
      "text/plain": [
       "2"
      ]
     },
     "execution_count": 7,
     "metadata": {},
     "output_type": "execute_result"
    }
   ],
   "source": [
    "l=[2,4,6,8,10,12,14,16,18,20]\n",
    "l1=iter(l)\n",
    "next(l1)"
   ]
  },
  {
   "cell_type": "code",
   "execution_count": 8,
   "id": "81d3b56c",
   "metadata": {},
   "outputs": [
    {
     "data": {
      "text/plain": [
       "4"
      ]
     },
     "execution_count": 8,
     "metadata": {},
     "output_type": "execute_result"
    }
   ],
   "source": [
    "next(l1)"
   ]
  },
  {
   "cell_type": "code",
   "execution_count": 9,
   "id": "64af2f1b",
   "metadata": {},
   "outputs": [
    {
     "data": {
      "text/plain": [
       "6"
      ]
     },
     "execution_count": 9,
     "metadata": {},
     "output_type": "execute_result"
    }
   ],
   "source": [
    "next(l1)"
   ]
  },
  {
   "cell_type": "code",
   "execution_count": 10,
   "id": "c8bad81b",
   "metadata": {},
   "outputs": [
    {
     "data": {
      "text/plain": [
       "8"
      ]
     },
     "execution_count": 10,
     "metadata": {},
     "output_type": "execute_result"
    }
   ],
   "source": [
    "next(l1)"
   ]
  },
  {
   "cell_type": "code",
   "execution_count": 11,
   "id": "154d854f",
   "metadata": {},
   "outputs": [
    {
     "data": {
      "text/plain": [
       "10"
      ]
     },
     "execution_count": 11,
     "metadata": {},
     "output_type": "execute_result"
    }
   ],
   "source": [
    "next(l1)"
   ]
  },
  {
   "cell_type": "markdown",
   "id": "a2df8fcd",
   "metadata": {},
   "source": [
    "### 4\n",
    "    Generator is a special type of function . It will generate one by one one output without hold any space\n",
    "    by the help of yield keyword generator function are made . yield keyword acts just like as return"
   ]
  },
  {
   "cell_type": "code",
   "execution_count": 12,
   "id": "d8065c19",
   "metadata": {},
   "outputs": [],
   "source": [
    "l=[1,2,3,4,5,6,7,8]\n",
    "def square(l):\n",
    "    for i in l:\n",
    "        j=i**2\n",
    "        yield j"
   ]
  },
  {
   "cell_type": "code",
   "execution_count": 13,
   "id": "a67e239f",
   "metadata": {},
   "outputs": [
    {
     "name": "stdout",
     "output_type": "stream",
     "text": [
      "1\n",
      "4\n",
      "9\n",
      "16\n",
      "25\n",
      "36\n",
      "49\n",
      "64\n"
     ]
    }
   ],
   "source": [
    "for i in square(l):\n",
    "    print(i)"
   ]
  },
  {
   "cell_type": "markdown",
   "id": "57207f1a",
   "metadata": {},
   "source": [
    "### 5"
   ]
  },
  {
   "cell_type": "code",
   "execution_count": 14,
   "id": "afec2f76",
   "metadata": {},
   "outputs": [],
   "source": [
    "n=1000\n",
    "def prime(n):\n",
    "    c=0\n",
    "    for i in range(n):\n",
    "        if i>1:\n",
    "            for j in range(2,i):\n",
    "                if (i%j)==0:\n",
    "                    break\n",
    "            else:\n",
    "                yield i"
   ]
  },
  {
   "cell_type": "code",
   "execution_count": 15,
   "id": "430b6218",
   "metadata": {},
   "outputs": [],
   "source": [
    "prime_num=prime(n)"
   ]
  },
  {
   "cell_type": "code",
   "execution_count": 16,
   "id": "09724aed",
   "metadata": {},
   "outputs": [
    {
     "name": "stdout",
     "output_type": "stream",
     "text": [
      "2\n",
      "3\n",
      "5\n",
      "7\n",
      "11\n",
      "13\n",
      "17\n",
      "19\n",
      "23\n",
      "29\n",
      "31\n",
      "37\n",
      "41\n",
      "43\n",
      "47\n",
      "53\n",
      "59\n",
      "61\n",
      "67\n",
      "71\n"
     ]
    }
   ],
   "source": [
    "for i in range(20):\n",
    "    print(next(prime_num))"
   ]
  },
  {
   "cell_type": "markdown",
   "id": "ea33c173",
   "metadata": {},
   "source": [
    "### 6"
   ]
  },
  {
   "cell_type": "code",
   "execution_count": 17,
   "id": "7dd1b9a1",
   "metadata": {},
   "outputs": [],
   "source": [
    "def fibb():\n",
    "    a,b=0,1\n",
    "    fib=[]\n",
    "    n=0\n",
    "    while n<20:\n",
    "        a,b=b,a+b\n",
    "        fib.append(a)\n",
    "        n+=1\n",
    "    return fib"
   ]
  },
  {
   "cell_type": "code",
   "execution_count": 18,
   "id": "3b16d336",
   "metadata": {},
   "outputs": [
    {
     "data": {
      "text/plain": [
       "[1,\n",
       " 1,\n",
       " 2,\n",
       " 3,\n",
       " 5,\n",
       " 8,\n",
       " 13,\n",
       " 21,\n",
       " 34,\n",
       " 55,\n",
       " 89,\n",
       " 144,\n",
       " 233,\n",
       " 377,\n",
       " 610,\n",
       " 987,\n",
       " 1597,\n",
       " 2584,\n",
       " 4181,\n",
       " 6765]"
      ]
     },
     "execution_count": 18,
     "metadata": {},
     "output_type": "execute_result"
    }
   ],
   "source": [
    "fibb()"
   ]
  },
  {
   "cell_type": "markdown",
   "id": "5a8eaafd",
   "metadata": {},
   "source": [
    "### 7"
   ]
  },
  {
   "cell_type": "code",
   "execution_count": 19,
   "id": "872bbe86",
   "metadata": {},
   "outputs": [
    {
     "data": {
      "text/plain": [
       "['P', 'W', 'S', 'K', 'I', 'L', 'L', 'S']"
      ]
     },
     "execution_count": 19,
     "metadata": {},
     "output_type": "execute_result"
    }
   ],
   "source": [
    "string=\"PWSKILLS\"\n",
    "[x for x in string]"
   ]
  },
  {
   "cell_type": "markdown",
   "id": "5439a19c",
   "metadata": {},
   "source": [
    "### 8"
   ]
  },
  {
   "cell_type": "code",
   "execution_count": 20,
   "id": "56578ca9",
   "metadata": {},
   "outputs": [],
   "source": [
    "def palindrom(s):\n",
    "    s=s.lower().replace(\" \",\"\")\n",
    "    l=0\n",
    "    r=len(s)-1\n",
    "    while l<r:\n",
    "        if s[l] !=s[r]:\n",
    "            return \"Not palindrom\"\n",
    "        l+=1\n",
    "        r-=1\n",
    "    return \"Palindrom\""
   ]
  },
  {
   "cell_type": "code",
   "execution_count": 21,
   "id": "25c9d8c3",
   "metadata": {},
   "outputs": [
    {
     "data": {
      "text/plain": [
       "'Palindrom'"
      ]
     },
     "execution_count": 21,
     "metadata": {},
     "output_type": "execute_result"
    }
   ],
   "source": [
    "palindrom(\"Abba\")"
   ]
  },
  {
   "cell_type": "code",
   "execution_count": 22,
   "id": "6a8d7356",
   "metadata": {},
   "outputs": [
    {
     "data": {
      "text/plain": [
       "'Not palindrom'"
      ]
     },
     "execution_count": 22,
     "metadata": {},
     "output_type": "execute_result"
    }
   ],
   "source": [
    "palindrom(\"Alok\")"
   ]
  },
  {
   "cell_type": "markdown",
   "id": "b0fd385a",
   "metadata": {},
   "source": [
    "### 9"
   ]
  },
  {
   "cell_type": "code",
   "execution_count": 1,
   "id": "5ec8f072",
   "metadata": {},
   "outputs": [
    {
     "data": {
      "text/plain": [
       "[2,\n",
       " 4,\n",
       " 6,\n",
       " 8,\n",
       " 10,\n",
       " 12,\n",
       " 14,\n",
       " 16,\n",
       " 18,\n",
       " 20,\n",
       " 22,\n",
       " 24,\n",
       " 26,\n",
       " 28,\n",
       " 30,\n",
       " 32,\n",
       " 34,\n",
       " 36,\n",
       " 38,\n",
       " 40,\n",
       " 42,\n",
       " 44,\n",
       " 46,\n",
       " 48,\n",
       " 50,\n",
       " 52,\n",
       " 54,\n",
       " 56,\n",
       " 58,\n",
       " 60,\n",
       " 62,\n",
       " 64,\n",
       " 66,\n",
       " 68,\n",
       " 70,\n",
       " 72,\n",
       " 74,\n",
       " 76,\n",
       " 78,\n",
       " 80,\n",
       " 82,\n",
       " 84,\n",
       " 86,\n",
       " 88,\n",
       " 90,\n",
       " 92,\n",
       " 94,\n",
       " 96,\n",
       " 98,\n",
       " 100]"
      ]
     },
     "execution_count": 1,
     "metadata": {},
     "output_type": "execute_result"
    }
   ],
   "source": [
    "a=list(range(1,101))\n",
    "[x for x in a if x%2==0 ]"
   ]
  },
  {
   "cell_type": "code",
   "execution_count": 2,
   "id": "8367fb1b",
   "metadata": {},
   "outputs": [
    {
     "data": {
      "text/plain": [
       "[2,\n",
       " 4,\n",
       " 6,\n",
       " 8,\n",
       " 10,\n",
       " 12,\n",
       " 14,\n",
       " 16,\n",
       " 18,\n",
       " 20,\n",
       " 22,\n",
       " 24,\n",
       " 26,\n",
       " 28,\n",
       " 30,\n",
       " 32,\n",
       " 34,\n",
       " 36,\n",
       " 38,\n",
       " 40,\n",
       " 42,\n",
       " 44,\n",
       " 46,\n",
       " 48,\n",
       " 50,\n",
       " 52,\n",
       " 54,\n",
       " 56,\n",
       " 58,\n",
       " 60,\n",
       " 62,\n",
       " 64,\n",
       " 66,\n",
       " 68,\n",
       " 70,\n",
       " 72,\n",
       " 74,\n",
       " 76,\n",
       " 78,\n",
       " 80,\n",
       " 82,\n",
       " 84,\n",
       " 86,\n",
       " 88,\n",
       " 90,\n",
       " 92,\n",
       " 94,\n",
       " 96,\n",
       " 98,\n",
       " 100]"
      ]
     },
     "execution_count": 2,
     "metadata": {},
     "output_type": "execute_result"
    }
   ],
   "source": [
    "l=list(range(1,101))\n",
    "list(filter(lambda x:x%2==0,l))"
   ]
  },
  {
   "cell_type": "code",
   "execution_count": null,
   "id": "6548ec8c",
   "metadata": {},
   "outputs": [],
   "source": []
  }
 ],
 "metadata": {
  "kernelspec": {
   "display_name": "Python 3 (ipykernel)",
   "language": "python",
   "name": "python3"
  },
  "language_info": {
   "codemirror_mode": {
    "name": "ipython",
    "version": 3
   },
   "file_extension": ".py",
   "mimetype": "text/x-python",
   "name": "python",
   "nbconvert_exporter": "python",
   "pygments_lexer": "ipython3",
   "version": "3.9.13"
  }
 },
 "nbformat": 4,
 "nbformat_minor": 5
}
